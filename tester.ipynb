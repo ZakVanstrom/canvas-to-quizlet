{
 "cells": [
  {
   "cell_type": "code",
   "execution_count": 6,
   "metadata": {},
   "outputs": [],
   "source": [
    "import os\n",
    "from bs4 import BeautifulSoup\n",
    "from urllib.request import Request, urlopen\n",
    "import re\n",
    "import html2text\n",
    "\n",
    "input_path = \"/Users/zak/dev/canvas-to-quizlet/examples/frame1.html\"\n",
    "split = os.path.split(input_path)\n",
    "output_path = split[0] + \"/\" + split[1].split('.')[0] + \"-output.txt\""
   ]
  },
  {
   "cell_type": "code",
   "execution_count": 7,
   "metadata": {},
   "outputs": [
    {
     "name": "stdout",
     "output_type": "stream",
     "text": [
      "Single File Selected. (1)\n"
     ]
    }
   ],
   "source": [
    "response = 0\n",
    "while response not in [\"1\", \"2\", \"3\"]:\n",
    "  response = input(\"Would you like to convert a single file (1), multiple files (2), or a folder of files (3)?\")\n",
    "  if response not in [\"1\", \"2\", \"3\"]:\n",
    "    print(\"Incorrect Selection. Please choose from 1, 2, or 3!\")\n",
    "if response == \"1\":\n",
    "  print(\"Single File Selected. (1)\")\n",
    "if response == \"2\":\n",
    "  print(\"Multiple Files Selected. (2)\")\n",
    "if response == \"3\":\n",
    "  print(\"Folder of Files Selected. (3)\")"
   ]
  },
  {
   "cell_type": "code",
   "execution_count": 8,
   "metadata": {},
   "outputs": [],
   "source": [
    "\n",
    "# req = Request(\"https://www.crowdy.one\")\n",
    "# html_page = urlopen(req)\n",
    "\n",
    "html_page = open(input_path, \"r\")\n",
    "\n",
    "soup = BeautifulSoup(html_page, \"html.parser\")\n",
    "\n",
    "h = html2text.HTML2Text()\n",
    "\n",
    "dirty_html_text = soup.get_text()\n",
    "\n",
    "html_text = [l for l in dirty_html_text.split('\\n') if l.strip() != '']"
   ]
  },
  {
   "cell_type": "code",
   "execution_count": 9,
   "metadata": {},
   "outputs": [],
   "source": [
    "\n",
    "\n",
    "f = open(\"html_text.txt\", \"w\")\n",
    "for line in html_text:\n",
    "\tf.write(line+\"\\n\")\n",
    "f.close()"
   ]
  },
  {
   "cell_type": "code",
   "execution_count": 10,
   "metadata": {},
   "outputs": [
    {
     "name": "stdout",
     "output_type": "stream",
     "text": [
      "Flashcards written to /Users/zak/dev/canvas-to-quizlet/examples/frame1-output.txt. To import into Quizlet:\n"
     ]
    }
   ],
   "source": [
    "\n",
    "\n",
    "print(f'Flashcards written to {output_path}. To import into Quizlet:')\n"
   ]
  }
 ],
 "metadata": {
  "kernelspec": {
   "display_name": "Python 3.9.7 ('base')",
   "language": "python",
   "name": "python3"
  },
  "language_info": {
   "codemirror_mode": {
    "name": "ipython",
    "version": 3
   },
   "file_extension": ".py",
   "mimetype": "text/x-python",
   "name": "python",
   "nbconvert_exporter": "python",
   "pygments_lexer": "ipython3",
   "version": "3.9.12"
  },
  "orig_nbformat": 4,
  "vscode": {
   "interpreter": {
    "hash": "f0aed056e2952743f5b41f25f0bc18a39cf523099a96741fef1b6bcc345fc1f3"
   }
  }
 },
 "nbformat": 4,
 "nbformat_minor": 2
}

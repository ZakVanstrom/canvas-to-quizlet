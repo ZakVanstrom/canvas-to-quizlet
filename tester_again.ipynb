{
 "cells": [
  {
   "cell_type": "code",
   "execution_count": 37,
   "metadata": {},
   "outputs": [],
   "source": [
    "import re\n",
    "import os.path\n",
    "\n",
    "def convert(file: str) -> dict:\n",
    "    questions = re.findall(r'\"textarea_question_text\">([\\s\\S]*?)<', file)\n",
    "    answers = re.findall(\n",
    "        r'\"(.*?)(?:\\.*?)(?:. This was the correct answer|. You selected this answer. This was the correct answer.)', file)\n",
    "\n",
    "    raw_pairs = dict(zip(questions, answers))\n",
    "    pairs = {}\n",
    "\n",
    "    for pair in raw_pairs:\n",
    "        if '&lt' not in pair and 'All of the above' not in raw_pairs[pair]:\n",
    "            pairs[pair] = raw_pairs[pair]\n",
    "\n",
    "    pairs = {k: v for k, v in pairs.items() if len(v) >= 1}\n",
    "    return pairs"
   ]
  },
  {
   "cell_type": "code",
   "execution_count": 38,
   "metadata": {},
   "outputs": [],
   "source": [
    "def write_pairs(pairs: dict, location: str):\n",
    "    with open(location, 'w', encoding=\"utf8\") as f:\n",
    "        for key in pairs.keys():\n",
    "            f.write(f\"{key}\\t{pairs[key]}\\n\")\n",
    "\n",
    "def perform_actions(input_path):\n",
    "    split = os.path.split(input_path)\n",
    "    output_path = split[0] + \"/\" + split[1].split('.')[0] + \"-output.txt\"\n",
    "\n",
    "    file = open(input_path, \"r\", encoding=\"utf8\").read().strip()\n",
    "\n",
    "    pairs = convert(file)\n",
    "    write_pairs(pairs, output_path)\n",
    "\n",
    "    print(f'Wrote to {output_path}.')\n",
    "\n",
    "def get_HTML_files_from_directory(dir_path):\n",
    "    results = []\n",
    "    for file in os.listdir(dir_path):\n",
    "        if file.endswith(\".html\"):\n",
    "            results.append(os.path.join(dir_path, file))\n",
    "    return results\n"
   ]
  },
  {
   "cell_type": "code",
   "execution_count": 39,
   "metadata": {},
   "outputs": [],
   "source": [
    "def main():\n",
    "    # input_path = input(\"Enter the Input File Path\")\n",
    "\n",
    "    files = get_HTML_files_from_directory(\"/Users/zak/dev/canvas-to-quizlet/examples\")\n",
    "    \n",
    "    for f in files:\n",
    "        perform_actions(f)\n",
    "    \n"
   ]
  },
  {
   "cell_type": "code",
   "execution_count": 40,
   "metadata": {},
   "outputs": [
    {
     "name": "stdout",
     "output_type": "stream",
     "text": [
      "Wrote to /Users/zak/dev/canvas-to-quizlet/examples/Module 1: Quiz: Variations of Conditionals: MAT 243: Discrete Math Structures (2019 Fall) - o-course-output.txt.\n",
      "Wrote to /Users/zak/dev/canvas-to-quizlet/examples/Module 1: Quiz: Equivalent Conditionals: MAT 243: Discrete Math Structures (2019 Fall) - o-course - -output.txt.\n",
      "Wrote to /Users/zak/dev/canvas-to-quizlet/examples/Module 2: Quiz: Translating Quantified Statements: MAT 243: Discrete Math Structures (2019 Fall) - o-output.txt.\n",
      "Wrote to /Users/zak/dev/canvas-to-quizlet/examples/frame1-output.txt.\n",
      "Wrote to /Users/zak/dev/canvas-to-quizlet/examples/Module 2: Quiz: Quantified Statements and Disjunction:Conjunction: MAT 243: Discrete Math Structures-output.txt.\n",
      "Wrote to /Users/zak/dev/canvas-to-quizlet/examples/frame2-output.txt.\n",
      "Wrote to /Users/zak/dev/canvas-to-quizlet/examples/Module 1: Quiz: Binary Logical Operators: MAT 243: Discrete Math Structures (2019 Fall) - o-course --output.txt.\n",
      "Wrote to /Users/zak/dev/canvas-to-quizlet/examples/Module 1: Quiz: The \"only if\" Statement: MAT 243: Discrete Math Structures (2019 Fall) - o-course - -output.txt.\n",
      "Wrote to /Users/zak/dev/canvas-to-quizlet/examples/Module 1: Quiz: Unicode Math Preparedness: MAT 243: Discrete Math Structures (2019 Fall) - o-course -output.txt.\n",
      "Wrote to /Users/zak/dev/canvas-to-quizlet/examples/Module 1: Quiz: Variations of Conditionals: Zakyre Vanstrom (They:Them)-output.txt.\n",
      "Wrote to /Users/zak/dev/canvas-to-quizlet/examples/frame3-output.txt.\n",
      "Wrote to /Users/zak/dev/canvas-to-quizlet/examples/Module 2: Quiz: Negating Quantified Statements: MAT 243: Discrete Math Structures (2019 Fall) - o-co-output.txt.\n",
      "Wrote to /Users/zak/dev/canvas-to-quizlet/examples/Module 1: Quiz: College Algebra: MAT 243: Discrete Math Structures (2019 Fall) - o-course - Ionascu-output.txt.\n",
      "Wrote to /Users/zak/dev/canvas-to-quizlet/examples/Module 3: Quiz: Formalizing Arguments Involving Universal Statements: MAT 243: Discrete Math Structu-output.txt.\n"
     ]
    }
   ],
   "source": [
    "if __name__ == \"__main__\":\n",
    "    main()"
   ]
  }
 ],
 "metadata": {
  "kernelspec": {
   "display_name": "Python 3.9.12 ('base')",
   "language": "python",
   "name": "python3"
  },
  "language_info": {
   "codemirror_mode": {
    "name": "ipython",
    "version": 3
   },
   "file_extension": ".py",
   "mimetype": "text/x-python",
   "name": "python",
   "nbconvert_exporter": "python",
   "pygments_lexer": "ipython3",
   "version": "3.9.12"
  },
  "orig_nbformat": 4,
  "vscode": {
   "interpreter": {
    "hash": "f0aed056e2952743f5b41f25f0bc18a39cf523099a96741fef1b6bcc345fc1f3"
   }
  }
 },
 "nbformat": 4,
 "nbformat_minor": 2
}

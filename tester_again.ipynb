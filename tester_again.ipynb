{
 "cells": [
  {
   "cell_type": "code",
   "execution_count": null,
   "metadata": {},
   "outputs": [],
   "source": [
    "import os.path\n",
    "from bs4 import BeautifulSoup as bs\n",
    "\n",
    "def get_pairs(file) -> dict:\n",
    "    # get question\n",
    "    scrape = bs(file)\n",
    "    \n",
    "    questions = scrape.select(\"div[class='question_text user_content']\")\n",
    "    questions_content = []\n",
    "    for q in questions:\n",
    "        questions_content.append(q.text.strip().replace('\\n', ''))\n",
    "\n",
    "    answers = scrape.select(\"div.correct_answer\")\n",
    "    answers_content = []\n",
    "    for a in answers:\n",
    "        answers_content.append(a.text.strip().replace('\\n', ''))\n",
    "\n",
    "    print(\"Question Count: \" + str(len(questions)))\n",
    "    print(questions_content)\n",
    "    print(\"Answer Count: \" + str(len(answers)))\n",
    "    print(answers_content)\n",
    "\n",
    "    return []\n"
   ]
  },
  {
   "cell_type": "code",
   "execution_count": null,
   "metadata": {},
   "outputs": [],
   "source": [
    "def write_pairs(pairs: dict, location: str):\n",
    "    with open(location, 'w', encoding=\"utf8\") as f:\n",
    "        for key in pairs.keys():\n",
    "            f.write(f\"{key}\\t{pairs[key]}\\n\")\n",
    "\n",
    "def write_html_file(file, path):\n",
    "    f = open(path, 'w')\n",
    "    f.write(file)\n",
    "\n",
    "def perform_actions(input_path):\n",
    "    split = os.path.split(input_path)\n",
    "    output_path = split[0] + \"/output/\" + split[1].split('.')[0] + \"-output.txt\"\n",
    "\n",
    "    file = open(input_path, \"r\", encoding=\"utf8\").read().strip()\n",
    "    pairs = get_pairs(file)\n",
    "\n",
    "    if len(pairs)<1:\n",
    "        print(\"Write Failed!\")\n",
    "        return\n",
    "\n",
    "    write_pairs(pairs, output_path)\n",
    "\n",
    "    print(f'Wrote to {output_path}.')\n",
    "\n",
    "def get_HTML_paths_from_directory(dir_path):\n",
    "    results = []\n",
    "    for file in os.listdir(dir_path):\n",
    "        if file.endswith(\".html\"):\n",
    "            results.append(os.path.join(dir_path, file))\n",
    "    return results\n"
   ]
  },
  {
   "cell_type": "code",
   "execution_count": null,
   "metadata": {},
   "outputs": [],
   "source": [
    "def main():\n",
    "    # input_path = input(\"Enter the Input File Path\")\n",
    "    # input_path = \"/Users/zak/dev/canvas-to-quizlet/examples/frame1.html\"\n",
    "    # perform_actions(input_path)\n",
    "\n",
    "    html_paths = get_HTML_paths_from_directory(\"/Users/zak/dev/canvas-to-quizlet/examples\")\n",
    "    \n",
    "    for f in html_paths:\n",
    "        print(f)\n",
    "        perform_actions(f)\n",
    "        print(\"\\n\")\n",
    "    \n",
    "\n",
    "if __name__ == \"__main__\":\n",
    "    main()"
   ]
  }
 ],
 "metadata": {
  "kernelspec": {
   "display_name": "Python 3.9.12 ('base')",
   "language": "python",
   "name": "python3"
  },
  "language_info": {
   "codemirror_mode": {
    "name": "ipython",
    "version": 3
   },
   "file_extension": ".py",
   "mimetype": "text/x-python",
   "name": "python",
   "nbconvert_exporter": "python",
   "pygments_lexer": "ipython3",
   "version": "3.9.12"
  },
  "orig_nbformat": 4,
  "vscode": {
   "interpreter": {
    "hash": "f0aed056e2952743f5b41f25f0bc18a39cf523099a96741fef1b6bcc345fc1f3"
   }
  }
 },
 "nbformat": 4,
 "nbformat_minor": 2
}
